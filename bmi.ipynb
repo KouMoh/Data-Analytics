{
 "cells": [
  {
   "cell_type": "markdown",
   "metadata": {},
   "source": [
    "BMI Calculator"
   ]
  },
  {
   "cell_type": "code",
   "execution_count": 3,
   "metadata": {},
   "outputs": [],
   "source": [
    "# [weight (kg) / height (cm) / height (cm)] x 10,000\n"
   ]
  },
  {
   "cell_type": "code",
   "execution_count": 11,
   "metadata": {},
   "outputs": [
    {
     "name": "stdout",
     "output_type": "stream",
     "text": [
      "33.61226847799447\n",
      "you are obese!\n"
     ]
    }
   ],
   "source": [
    "weight = int(input(\"Enter your weight in kgs:\"))\n",
    "height = int(input(\"Enter your height in cm:\"))\n",
    "\n",
    "BMI = ( ( (weight) / height )/ height) * 10000\n",
    "\n",
    "print(BMI)\n",
    "\n",
    "if BMI>0:\n",
    "    if(BMI <18.5):\n",
    "        print(\"you are underweight!\")\n",
    "    elif(BMI <=24.9):\n",
    "        print(\"you are at normal weight!\")\n",
    "    elif(BMI <29.9):\n",
    "        print(\"you are overweight!\")\n",
    "    elif(BMI <34.9):\n",
    "        print(\"you are obese!\")\n",
    "    elif(BMI <39.9):\n",
    "        print(\"you are severley obese!\")\n",
    "    else:\n",
    "        print(\"you are morbidly obese!\")\n",
    "else:\n",
    "    print(\"Invalid input!\")\n"
   ]
  },
  {
   "cell_type": "code",
   "execution_count": null,
   "metadata": {},
   "outputs": [],
   "source": []
  },
  {
   "cell_type": "code",
   "execution_count": null,
   "metadata": {},
   "outputs": [],
   "source": []
  },
  {
   "cell_type": "code",
   "execution_count": null,
   "metadata": {},
   "outputs": [],
   "source": []
  },
  {
   "cell_type": "code",
   "execution_count": null,
   "metadata": {},
   "outputs": [],
   "source": []
  },
  {
   "cell_type": "code",
   "execution_count": 7,
   "metadata": {},
   "outputs": [
    {
     "name": "stdout",
     "output_type": "stream",
     "text": [
      "88\n"
     ]
    }
   ],
   "source": [
    "print(weight)"
   ]
  },
  {
   "cell_type": "code",
   "execution_count": null,
   "metadata": {},
   "outputs": [],
   "source": []
  }
 ],
 "metadata": {
  "kernelspec": {
   "display_name": "Python 3",
   "language": "python",
   "name": "python3"
  },
  "language_info": {
   "codemirror_mode": {
    "name": "ipython",
    "version": 3
   },
   "file_extension": ".py",
   "mimetype": "text/x-python",
   "name": "python",
   "nbconvert_exporter": "python",
   "pygments_lexer": "ipython3",
   "version": "3.11.9"
  }
 },
 "nbformat": 4,
 "nbformat_minor": 2
}
