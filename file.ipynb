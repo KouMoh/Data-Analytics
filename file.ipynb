{
 "cells": [
  {
   "cell_type": "markdown",
   "metadata": {},
   "source": [
    "# Automatic File Sorter"
   ]
  },
  {
   "cell_type": "code",
   "execution_count": 2,
   "metadata": {},
   "outputs": [],
   "source": [
    "import os, shutil"
   ]
  },
  {
   "cell_type": "code",
   "execution_count": 9,
   "metadata": {},
   "outputs": [],
   "source": [
    "path = r\"C:/Users/KIIT/OneDrive/Pictures (1)/\""
   ]
  },
  {
   "cell_type": "code",
   "execution_count": 12,
   "metadata": {},
   "outputs": [],
   "source": [
    "file_name = os.listdir(path)"
   ]
  },
  {
   "cell_type": "code",
   "execution_count": 10,
   "metadata": {},
   "outputs": [],
   "source": [
    "folder_names = ['lenovo images']\n",
    "\n",
    "for loop in range(0,1):\n",
    "    if not os.path.exists(path+ folder_names[loop]):\n",
    "        os.makedirs((path+ folder_names[loop]))"
   ]
  },
  {
   "cell_type": "code",
   "execution_count": 16,
   "metadata": {},
   "outputs": [
    {
     "name": "stdout",
     "output_type": "stream",
     "text": [
      "There were some files that were not moved!\n",
      "There were some files that were not moved!\n",
      "There were some files that were not moved!\n",
      "There were some files that were not moved!\n",
      "There were some files that were not moved!\n",
      "There were some files that were not moved!\n",
      "There were some files that were not moved!\n",
      "There were some files that were not moved!\n",
      "There were some files that were not moved!\n",
      "There were some files that were not moved!\n",
      "There were some files that were not moved!\n",
      "There were some files that were not moved!\n",
      "There were some files that were not moved!\n",
      "There were some files that were not moved!\n",
      "There were some files that were not moved!\n",
      "There were some files that were not moved!\n",
      "There were some files that were not moved!\n",
      "There were some files that were not moved!\n",
      "There were some files that were not moved!\n",
      "There were some files that were not moved!\n",
      "There were some files that were not moved!\n",
      "There were some files that were not moved!\n",
      "There were some files that were not moved!\n",
      "There were some files that were not moved!\n",
      "There were some files that were not moved!\n",
      "There were some files that were not moved!\n",
      "There were some files that were not moved!\n",
      "There were some files that were not moved!\n",
      "There were some files that were not moved!\n",
      "There were some files that were not moved!\n",
      "There were some files that were not moved!\n",
      "There were some files that were not moved!\n",
      "There were some files that were not moved!\n",
      "There were some files that were not moved!\n",
      "There were some files that were not moved!\n",
      "There were some files that were not moved!\n",
      "There were some files that were not moved!\n",
      "There were some files that were not moved!\n",
      "There were some files that were not moved!\n",
      "There were some files that were not moved!\n",
      "There were some files that were not moved!\n",
      "There were some files that were not moved!\n",
      "There were some files that were not moved!\n",
      "There were some files that were not moved!\n",
      "There were some files that were not moved!\n",
      "There were some files that were not moved!\n",
      "There were some files that were not moved!\n",
      "There were some files that were not moved!\n",
      "There were some files that were not moved!\n",
      "There were some files that were not moved!\n",
      "There were some files that were not moved!\n",
      "There were some files that were not moved!\n",
      "There were some files that were not moved!\n",
      "There were some files that were not moved!\n",
      "There were some files that were not moved!\n",
      "There were some files that were not moved!\n",
      "There were some files that were not moved!\n",
      "There were some files that were not moved!\n",
      "There were some files that were not moved!\n",
      "There were some files that were not moved!\n",
      "There were some files that were not moved!\n",
      "There were some files that were not moved!\n",
      "There were some files that were not moved!\n",
      "There were some files that were not moved!\n",
      "There were some files that were not moved!\n",
      "There were some files that were not moved!\n",
      "There were some files that were not moved!\n",
      "There were some files that were not moved!\n",
      "There were some files that were not moved!\n"
     ]
    }
   ],
   "source": [
    "for file in file_name:\n",
    "    if \".jpg\" in file and not os.path.exists(path+ \"lenovo images/\" + file):\n",
    "        shutil.move(path + file, path+ \"lenovo images/\" + file)\n",
    "    elif \".png\" in file and not os.path.exists(path+ \"lenovo images/\" + file):\n",
    "        shutil.move(path + file, path+ \"lenovo images/\" + file)\n",
    "    elif \".webp\" in file and not os.path.exists(path+ \"lenovo images/\" + file):\n",
    "        shutil.move(path + file, path+ \"lenovo images/\" + file)\n",
    "    elif \".zip\" in file and not os.path.exists(path+ \"lenovo images/\" + file):\n",
    "        shutil.move(path + file, path+ \"lenovo images/\" + file)\n",
    "    elif \".gif\" in file and not os.path.exists(path+ \"lenovo images/\" + file):\n",
    "        shutil.move(path + file, path+ \"lenovo images/\" + file)\n",
    "    elif \".jpeg\" in file and not os.path.exists(path+ \"lenovo images/\" + file):\n",
    "        shutil.move(path + file, path+ \"lenovo images/\" + file)\n",
    "    else:\n",
    "        print(\"There were some files that were not moved!\")"
   ]
  },
  {
   "cell_type": "code",
   "execution_count": null,
   "metadata": {},
   "outputs": [],
   "source": []
  }
 ],
 "metadata": {
  "kernelspec": {
   "display_name": "Python 3",
   "language": "python",
   "name": "python3"
  },
  "language_info": {
   "codemirror_mode": {
    "name": "ipython",
    "version": 3
   },
   "file_extension": ".py",
   "mimetype": "text/x-python",
   "name": "python",
   "nbconvert_exporter": "python",
   "pygments_lexer": "ipython3",
   "version": "3.11.9"
  }
 },
 "nbformat": 4,
 "nbformat_minor": 2
}
