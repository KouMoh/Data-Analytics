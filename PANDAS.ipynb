# Files in Pandas
import pandas as p

df = pd.read_csv(r"C:\My Stuff\DA\MySQL\layoffs.csv")
df
df = pd.read_csv(r"C:\My Stuff\DA\Python\countries of the world.txt", sep ='\t')
df
df = pd.read_table(r"C:\My Stuff\DA\Python\countries of the world.txt")
df
df = pd.read_json(r"C:\My Stuff\DA\Python\json_sample.json")
df
df2 = pd.read_excel(r"C:\My Stuff\DA\Python\world_population_excel_workbook.xlsx", sheet_name = 'Sheet1')
df2
pd.set_option('display.max.rows', 235)
pd.set_option('display.max.columns', 40)
df2.info()
df2.shape
df2.head()
df2.tail()
df2['Rank']
df2.loc[224]

